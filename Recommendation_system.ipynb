{
 "cells": [
  {
   "cell_type": "code",
   "execution_count": 1,
   "metadata": {
    "collapsed": true,
    "deletable": true,
    "editable": true
   },
   "outputs": [],
   "source": [
    "import numpy as np\n",
    "import pandas as pd\n",
    "import matplotlib.pyplot as plt\n",
    "pd.set_option('display.max_columns', 20)\n",
    "pd.set_option('display.max_rows', 60)\n",
    "target ='Demanda_uni_equil'\n",
    "dtypes_train = {'Semana': np.int8, 'Agencia_ID': np.int32, 'Canal_ID': np.int8, 'Ruta_SAK':np.int16 ,'Cliente_ID': np.int32,\n",
    "                'Producto_ID': np.uint16,'Demanda_uni_equil': np.float16,\n",
    "                'Demanda_uni_equil2': np.float16,'Demanda_uni_equil3': np.float16,'Demanda_uni_equil4': np.float16}\n",
    "\n",
    "\n",
    "col = [ 'Semana','Agencia_ID','Canal_ID','Ruta_SAK','Cliente_ID','Producto_ID','Demanda_uni_equil2','Demanda_uni_equil3','Demanda_uni_equil4','Demanda_uni_equil']\n",
    "col2 = [ 'Semana','Agencia_ID','Ruta_SAK','Cliente_ID','Producto_ID','Demanda_uni_equil']\n",
    "col2 = [ 'Semana','Cliente_ID','Producto_ID','Demanda_uni_equil']\n",
    "data = pd.read_csv('train.csv', header=0,dtype  = dtypes_train,\n",
    "                   usecols = col2,nrows=22174801)\n"
   ]
  },
  {
   "cell_type": "code",
   "execution_count": 2,
   "metadata": {
    "collapsed": false,
    "deletable": true,
    "editable": true
   },
   "outputs": [],
   "source": [
    "data = pd.read_csv('./train34.csv.gz',compression='gzip', header=0,dtype  = dtypes_train,\n",
    "                   usecols = col2,nrows=22174801)"
   ]
  },
  {
   "cell_type": "code",
   "execution_count": 3,
   "metadata": {
    "collapsed": false
   },
   "outputs": [
    {
     "name": "stdout",
     "output_type": "stream",
     "text": [
      "Semana\n",
      "3    11165207\n",
      "4    11009593\n",
      "5           1\n",
      "dtype: int64\n"
     ]
    }
   ],
   "source": [
    "# confirm dataset contains week3 and week4 data\n",
    "print (data.groupby(['Semana']).apply(len))"
   ]
  },
  {
   "cell_type": "code",
   "execution_count": 4,
   "metadata": {
    "collapsed": false
   },
   "outputs": [
    {
     "data": {
      "image/png": "[encoded data removed]",
      "text/plain": [
       "<matplotlib.figure.Figure at 0x7fa6c425c5f8>"
      ]
     },
     "metadata": {},
     "output_type": "display_data"
    },
    {
     "name": "stdout",
     "output_type": "stream",
     "text": [
      "1637\n",
      "956\n",
      "22174801 before removing ptds\n",
      "22158903 after removing ptds\n"
     ]
    },
    {
     "data": {
      "text/plain": [
       "22"
      ]
     },
     "execution_count": 4,
     "metadata": {},
     "output_type": "execute_result"
    }
   ],
   "source": [
    "pdts = data.groupby('Producto_ID').apply(len).reset_index(drop=False)\n",
    "if True:\n",
    "    bins = np.linspace(0,6.5,14)\n",
    "    plt.hist(np.log10(pdts[0]),bins);\n",
    "    plt.xticks(bins[::2],map(int,10**bins[::2]))\n",
    "    plt.ylabel('Count')\n",
    "    plt.show()\n",
    "\n",
    "print (len(pdts)),\n",
    "pdts = pdts[pdts[0]>100].reset_index(drop=True)\n",
    "print (len(pdts))\n",
    "print (len(data),'before removing ptds')\n",
    "data = pd.merge(data,pdts[['Producto_ID']],'inner')\n",
    "# do not consider amount brought, only consider if they are brought together as a first approximation\n",
    "data[target] = (data[target]*0+1).astype(np.uint8)\n",
    "print (len(data),'after removing ptds')\n",
    "data = data.drop_duplicates().iloc[::1]\n",
    "#data2= data[data['Agencia_ID']==1110]\n",
    "#data2.groupby(['Cliente_ID','Producto_ID']).apply(len)\n",
    "products = sorted(pd.unique(data['Producto_ID']))\n",
    "clients = sorted(pd.unique(data['Cliente_ID']))\n",
    "clients_dict=  {}\n",
    "products_dict= {}\n",
    "for i in range(len(products)):\n",
    "    products_dict[products[i]] = i\n",
    "for i in range(len(clients)):\n",
    "    clients_dict[clients[i]] = i\n",
    "data['Producto_ID']=data['Producto_ID'].map(products_dict)\n",
    "data['Cliente_ID']=data['Cliente_ID'].map(clients_dict)\n",
    "import gc\n",
    "gc.collect()\n",
    "import itertools\n",
    "data3 = data[data['Semana']==3]\n",
    "data4 = data[data['Semana']==4].reset_index(drop=True)\n",
    "del data\n",
    "gc.collect()\n"
   ]
  },
  {
   "cell_type": "code",
   "execution_count": 5,
   "metadata": {
    "collapsed": false
   },
   "outputs": [],
   "source": [
    "if False: #get co-occurnece matrix, where each element in matrix is the occurence of item i and j being brought\n",
    "    # at the same time\n",
    "    mat = np.zeros((len(products),len(products))).astype(np.float32)\n",
    "    num_pdts =  len(products_dict)\n",
    "\n",
    "    ids = pd.unique(data3['Cliente_ID'])\n",
    "    skip = 55000\n",
    "    for i in range(0,len(ids),skip):\n",
    "        print (i)\n",
    "        ids_subset = ids[i:i+skip]\n",
    "        #faster method by matrix multiplication, but memoery intensive\n",
    "        zz=data3[data3['Cliente_ID'].isin(ids_subset)].pivot(\n",
    "            index='Cliente_ID',\n",
    "            columns='Producto_ID',\n",
    "            values=target).fillna(0).astype(np.uint8)\n",
    "        for i in range(num_pdts):\n",
    "            try:\n",
    "                temp= zz.iloc[:5][i]\n",
    "            except KeyError :\n",
    "                zz[i] =0\n",
    "        zz = zz[np.array(range(num_pdts))].values\n",
    "        zzz = np.matmul(zz.T,zz)\n",
    "        mat += zzz\n",
    "        gc.collect()\n",
    "    np.save('mat.npy',mat)\n",
    "mat = np.load('mat.npy')"
   ]
  },
  {
   "cell_type": "code",
   "execution_count": 6,
   "metadata": {
    "collapsed": false
   },
   "outputs": [
    {
     "data": {
      "image/png": "[encoded data removed]",
      "text/plain": [
       "<matplotlib.figure.Figure at 0x7fa6c4238b38>"
      ]
     },
     "metadata": {},
     "output_type": "display_data"
    }
   ],
   "source": [
    "#matrix factorization\n",
    "v,d,vt=np.linalg.svd(mat)\n",
    "plt.plot(d);plt.yscale('log');plt.xlabel('index of diagonal matrix')\n",
    "plt.ylabel('value of diagonal matrix entry')\n",
    "plt.show()"
   ]
  },
  {
   "cell_type": "code",
   "execution_count": 161,
   "metadata": {
    "collapsed": false
   },
   "outputs": [
    {
     "name": "stdout",
     "output_type": "stream",
     "text": [
      "   Producto_ID      0                       NombreProducto  product_id\n",
      "0           72  38390  Div Tira Mini Doradita 4p 45g TR 72           0\n",
      "1           73  62070    Pan Multigrano Linaza 540g BIM 73           1\n",
      "2          106    970   Wonder 100pct mediano 475g WON 106           2\n",
      "3          123   3674     Super Bollos 5in 8p 540g WON 123           3\n",
      "4          131    139       Bollos BK 4in 36p 1635g SL 131           4\n"
     ]
    }
   ],
   "source": [
    "#get names of products instead of using indexes\n",
    "producto_tabla = pd.read_csv('producto_tabla.csv')\n",
    "producto_tabla = pd.merge(pdts,producto_tabla)\n",
    "producto_tabla['product_id'] = producto_tabla['Producto_ID'].map(products_dict)\n",
    "print (producto_tabla.head())"
   ]
  },
  {
   "cell_type": "code",
   "execution_count": 108,
   "metadata": {
    "collapsed": false
   },
   "outputs": [
    {
     "name": "stdout",
     "output_type": "stream",
     "text": [
      "looks like dimentions of 5 is enough, ERROR == 0.03377431 %\n",
      "0.03377431\n"
     ]
    },
    {
     "name": "stderr",
     "output_type": "stream",
     "text": [
      "/usr/local/lib/python3.5/dist-packages/ipykernel_launcher.py:9: RuntimeWarning: invalid value encountered in true_divide\n",
      "  if __name__ == '__main__':\n"
     ]
    }
   ],
   "source": [
    "#getting product embeddings\n",
    "if True:\n",
    "    j = 5\n",
    "    error = np.mean((np.matmul(np.matmul(v[:,:j],np.diag(d[:j])),vt[:j,:])-mat)**2)\n",
    "    SSTO = np.mean(mat**2)\n",
    "    print ('looks like dimentions of %s is enough, ERROR =='%j ,error/SSTO,'%')\n",
    "    item_vector = v[:,:j]*(d[:j]**.5)\n",
    "    print (np.mean((np.matmul(item_vector,item_vector.T)-mat)**2)/SSTO)\n",
    "    vec = v[:,:j]/np.expand_dims(np.sum(v[:,:j]**2,1)**.5,1)\n",
    "    vec = np.nan_to_num(vec,0)\n",
    "    cos_dist_mat = np.abs(np.nan_to_num(np.matmul(vec,vec.T),0))\n",
    "    \n"
   ]
  },
  {
   "cell_type": "code",
   "execution_count": 9,
   "metadata": {
    "collapsed": false
   },
   "outputs": [
    {
     "data": {
      "image/png": "[encoded data removed]",
      "text/plain": [
       "<matplotlib.figure.Figure at 0x7fa6bb1d05c0>"
      ]
     },
     "metadata": {},
     "output_type": "display_data"
    }
   ],
   "source": [
    "if True:\n",
    "    from matplotlib.colors  import LogNorm\n",
    "    from scipy.cluster.hierarchy import dendrogram, linkage \n",
    "    plt.close()\n",
    "    fig,ax = plt.subplots(1,1,figsize=(20,7))\n",
    "    linked = linkage(cos_dist_mat , 'single')\n",
    "    dendro  = dendrogram(linked, \n",
    "                orientation='top',\n",
    "                labels=list(producto_tabla.NombreProducto),\n",
    "                distance_sort='descending',\n",
    "                show_leaf_counts=True,color_threshold=15)\n",
    "    import matplotlib.pyplot as plt\n",
    "    plt.tight_layout(rect=[0.025, 0.025, .94, .94]);\n",
    "    plt.title('Hierarchical Clustering of\\nQuantitive Variables from abs|correlation matrix|')\n",
    "    plt.ylabel('Distance');plt.xlabel('Quantitive Variables')\n",
    "    plt.xticks(np.array(range(len(list(producto_tabla.NombreProducto))))*10,\n",
    "               list(producto_tabla.NombreProducto),fontsize=0.5);plt.savefig('Cluster.png',dpi=500);plt.close()\n",
    "    a=plt.imshow(cos_dist_mat[np.array(dendro['leaves']),:][:,np.array(dendro['leaves'])]);plt.colorbar(a);plt.show()"
   ]
  },
  {
   "cell_type": "code",
   "execution_count": 10,
   "metadata": {
    "collapsed": false
   },
   "outputs": [],
   "source": [
    "from scipy import cluster\n",
    "clusters_n = cluster.hierarchy.cut_tree(linked,height=[2,3,4,5])"
   ]
  },
  {
   "cell_type": "code",
   "execution_count": 162,
   "metadata": {
    "collapsed": false
   },
   "outputs": [
    {
     "data": {
      "text/html": [
       "<div>\n",
       "<style>\n",
       "    .dataframe thead tr:only-child th {\n",
       "        text-align: right;\n",
       "    }\n",
       "\n",
       "    .dataframe thead th {\n",
       "        text-align: left;\n",
       "    }\n",
       "\n",
       "    .dataframe tbody tr th {\n",
       "        vertical-align: top;\n",
       "    }\n",
       "</style>\n",
       "<table border=\"1\" class=\"dataframe\">\n",
       "  <thead>\n",
       "    <tr style=\"text-align: right;\">\n",
       "      <th></th>\n",
       "      <th>Producto_ID</th>\n",
       "      <th>0</th>\n",
       "      <th>NombreProducto</th>\n",
       "      <th>product_id</th>\n",
       "      <th>cluster2</th>\n",
       "      <th>cluster3</th>\n",
       "      <th>cluster4</th>\n",
       "      <th>cluster5</th>\n",
       "    </tr>\n",
       "  </thead>\n",
       "  <tbody>\n",
       "    <tr>\n",
       "      <th>0</th>\n",
       "      <td>72</td>\n",
       "      <td>38390</td>\n",
       "      <td>Div Tira Mini Doradita 4p 45g TR 72</td>\n",
       "      <td>0</td>\n",
       "      <td>0</td>\n",
       "      <td>0</td>\n",
       "      <td>0</td>\n",
       "      <td>0</td>\n",
       "    </tr>\n",
       "    <tr>\n",
       "      <th>310</th>\n",
       "      <td>32132</td>\n",
       "      <td>2103</td>\n",
       "      <td>Salmas Maiz Horn 108g CJM SAN 32132</td>\n",
       "      <td>310</td>\n",
       "      <td>0</td>\n",
       "      <td>0</td>\n",
       "      <td>0</td>\n",
       "      <td>0</td>\n",
       "    </tr>\n",
       "    <tr>\n",
       "      <th>325</th>\n",
       "      <td>32322</td>\n",
       "      <td>13517</td>\n",
       "      <td>Tortilla Hna RB 10p 260g Prom DH 32322</td>\n",
       "      <td>325</td>\n",
       "      <td>0</td>\n",
       "      <td>0</td>\n",
       "      <td>0</td>\n",
       "      <td>0</td>\n",
       "    </tr>\n",
       "    <tr>\n",
       "      <th>341</th>\n",
       "      <td>32802</td>\n",
       "      <td>33659</td>\n",
       "      <td>Tortillas de Maiz 800g MR 32802</td>\n",
       "      <td>341</td>\n",
       "      <td>0</td>\n",
       "      <td>0</td>\n",
       "      <td>0</td>\n",
       "      <td>0</td>\n",
       "    </tr>\n",
       "    <tr>\n",
       "      <th>343</th>\n",
       "      <td>32819</td>\n",
       "      <td>50518</td>\n",
       "      <td>Chocodonitas 6p 102g BIM 32819</td>\n",
       "      <td>343</td>\n",
       "      <td>0</td>\n",
       "      <td>0</td>\n",
       "      <td>0</td>\n",
       "      <td>0</td>\n",
       "    </tr>\n",
       "    <tr>\n",
       "      <th>347</th>\n",
       "      <td>32846</td>\n",
       "      <td>4551</td>\n",
       "      <td>Decanelas 5 Obleas 83g SP MTB LAR 32846</td>\n",
       "      <td>347</td>\n",
       "      <td>0</td>\n",
       "      <td>0</td>\n",
       "      <td>0</td>\n",
       "      <td>0</td>\n",
       "    </tr>\n",
       "    <tr>\n",
       "      <th>354</th>\n",
       "      <td>32873</td>\n",
       "      <td>23241</td>\n",
       "      <td>Canapinas 140g SP MTA LAR 32873</td>\n",
       "      <td>354</td>\n",
       "      <td>0</td>\n",
       "      <td>0</td>\n",
       "      <td>0</td>\n",
       "      <td>0</td>\n",
       "    </tr>\n",
       "    <tr>\n",
       "      <th>293</th>\n",
       "      <td>31720</td>\n",
       "      <td>11435</td>\n",
       "      <td>Mantecadas Chocolate 2p 95g TR 31720</td>\n",
       "      <td>293</td>\n",
       "      <td>0</td>\n",
       "      <td>0</td>\n",
       "      <td>0</td>\n",
       "      <td>0</td>\n",
       "    </tr>\n",
       "    <tr>\n",
       "      <th>394</th>\n",
       "      <td>33734</td>\n",
       "      <td>6591</td>\n",
       "      <td>Galleta Avena Chispas 8p 100g TR 33734</td>\n",
       "      <td>394</td>\n",
       "      <td>0</td>\n",
       "      <td>0</td>\n",
       "      <td>0</td>\n",
       "      <td>0</td>\n",
       "    </tr>\n",
       "    <tr>\n",
       "      <th>472</th>\n",
       "      <td>35141</td>\n",
       "      <td>31196</td>\n",
       "      <td>Super Pan Blanco Ajonjoli 567g WON 35141</td>\n",
       "      <td>472</td>\n",
       "      <td>0</td>\n",
       "      <td>0</td>\n",
       "      <td>0</td>\n",
       "      <td>0</td>\n",
       "    </tr>\n",
       "    <tr>\n",
       "      <th>474</th>\n",
       "      <td>35144</td>\n",
       "      <td>39400</td>\n",
       "      <td>Wonder 100pct con Ajonjoli 567g WON 35144</td>\n",
       "      <td>474</td>\n",
       "      <td>0</td>\n",
       "      <td>0</td>\n",
       "      <td>0</td>\n",
       "      <td>0</td>\n",
       "    </tr>\n",
       "    <tr>\n",
       "      <th>476</th>\n",
       "      <td>35147</td>\n",
       "      <td>11742</td>\n",
       "      <td>Wonder 100pct grande 567g WON 35147</td>\n",
       "      <td>476</td>\n",
       "      <td>0</td>\n",
       "      <td>0</td>\n",
       "      <td>0</td>\n",
       "      <td>0</td>\n",
       "    </tr>\n",
       "    <tr>\n",
       "      <th>954</th>\n",
       "      <td>49990</td>\n",
       "      <td>245</td>\n",
       "      <td>Tostado Integral 180g WON 49990</td>\n",
       "      <td>954</td>\n",
       "      <td>0</td>\n",
       "      <td>0</td>\n",
       "      <td>0</td>\n",
       "      <td>0</td>\n",
       "    </tr>\n",
       "    <tr>\n",
       "      <th>486</th>\n",
       "      <td>35452</td>\n",
       "      <td>74786</td>\n",
       "      <td>Chocotorro Fresa 1p 50g SP MLA 35452</td>\n",
       "      <td>486</td>\n",
       "      <td>0</td>\n",
       "      <td>0</td>\n",
       "      <td>0</td>\n",
       "      <td>0</td>\n",
       "    </tr>\n",
       "    <tr>\n",
       "      <th>508</th>\n",
       "      <td>35753</td>\n",
       "      <td>150</td>\n",
       "      <td>Galletas Panditas 3p 33g Tira CU MLA 35753</td>\n",
       "      <td>508</td>\n",
       "      <td>0</td>\n",
       "      <td>0</td>\n",
       "      <td>0</td>\n",
       "      <td>0</td>\n",
       "    </tr>\n",
       "    <tr>\n",
       "      <th>468</th>\n",
       "      <td>35119</td>\n",
       "      <td>38893</td>\n",
       "      <td>Deliciosas Vainilla 300g SP MTA LAR 35119</td>\n",
       "      <td>468</td>\n",
       "      <td>0</td>\n",
       "      <td>0</td>\n",
       "      <td>0</td>\n",
       "      <td>0</td>\n",
       "    </tr>\n",
       "    <tr>\n",
       "      <th>283</th>\n",
       "      <td>31625</td>\n",
       "      <td>17112</td>\n",
       "      <td>Chocochispas 280g MTA LAR 31625</td>\n",
       "      <td>283</td>\n",
       "      <td>0</td>\n",
       "      <td>0</td>\n",
       "      <td>0</td>\n",
       "      <td>0</td>\n",
       "    </tr>\n",
       "    <tr>\n",
       "      <th>279</th>\n",
       "      <td>31588</td>\n",
       "      <td>3651</td>\n",
       "      <td>Suavicremas Vainilla 237g MTA MLA 31588</td>\n",
       "      <td>279</td>\n",
       "      <td>0</td>\n",
       "      <td>0</td>\n",
       "      <td>0</td>\n",
       "      <td>0</td>\n",
       "    </tr>\n",
       "    <tr>\n",
       "      <th>277</th>\n",
       "      <td>31584</td>\n",
       "      <td>4220</td>\n",
       "      <td>Suavicremas Fresa 237g MTA MLA 31584</td>\n",
       "      <td>277</td>\n",
       "      <td>0</td>\n",
       "      <td>0</td>\n",
       "      <td>0</td>\n",
       "      <td>0</td>\n",
       "    </tr>\n",
       "    <tr>\n",
       "      <th>94</th>\n",
       "      <td>3609</td>\n",
       "      <td>63474</td>\n",
       "      <td>Mantecadas Chocolate 3p TR 3609</td>\n",
       "      <td>94</td>\n",
       "      <td>0</td>\n",
       "      <td>0</td>\n",
       "      <td>0</td>\n",
       "      <td>0</td>\n",
       "    </tr>\n",
       "    <tr>\n",
       "      <th>110</th>\n",
       "      <td>4259</td>\n",
       "      <td>109087</td>\n",
       "      <td>Conchas 3p 180g Prom TR 4259</td>\n",
       "      <td>110</td>\n",
       "      <td>0</td>\n",
       "      <td>0</td>\n",
       "      <td>0</td>\n",
       "      <td>0</td>\n",
       "    </tr>\n",
       "    <tr>\n",
       "      <th>112</th>\n",
       "      <td>4280</td>\n",
       "      <td>117562</td>\n",
       "      <td>Doraditas 110g TR 4280</td>\n",
       "      <td>112</td>\n",
       "      <td>0</td>\n",
       "      <td>0</td>\n",
       "      <td>0</td>\n",
       "      <td>0</td>\n",
       "    </tr>\n",
       "    <tr>\n",
       "      <th>113</th>\n",
       "      <td>4477</td>\n",
       "      <td>394</td>\n",
       "      <td>Tostada Ondulada Tubo 20p 240g MR 4477</td>\n",
       "      <td>113</td>\n",
       "      <td>0</td>\n",
       "      <td>0</td>\n",
       "      <td>0</td>\n",
       "      <td>0</td>\n",
       "    </tr>\n",
       "    <tr>\n",
       "      <th>155</th>\n",
       "      <td>6667</td>\n",
       "      <td>1916</td>\n",
       "      <td>Bimkingo Clasico 135g LON 6667</td>\n",
       "      <td>155</td>\n",
       "      <td>0</td>\n",
       "      <td>0</td>\n",
       "      <td>0</td>\n",
       "      <td>0</td>\n",
       "    </tr>\n",
       "    <tr>\n",
       "      <th>65</th>\n",
       "      <td>1272</td>\n",
       "      <td>24722</td>\n",
       "      <td>Conchas Chocolate 2p 120g BIM 1272</td>\n",
       "      <td>65</td>\n",
       "      <td>0</td>\n",
       "      <td>0</td>\n",
       "      <td>0</td>\n",
       "      <td>0</td>\n",
       "    </tr>\n",
       "    <tr>\n",
       "      <th>170</th>\n",
       "      <td>9217</td>\n",
       "      <td>104391</td>\n",
       "      <td>Cuernitos Famili Pack 3p 150g TR 9217</td>\n",
       "      <td>170</td>\n",
       "      <td>0</td>\n",
       "      <td>0</td>\n",
       "      <td>0</td>\n",
       "      <td>0</td>\n",
       "    </tr>\n",
       "    <tr>\n",
       "      <th>182</th>\n",
       "      <td>30214</td>\n",
       "      <td>15771</td>\n",
       "      <td>Tartinas Fresa 8p 104g TR 30214</td>\n",
       "      <td>182</td>\n",
       "      <td>0</td>\n",
       "      <td>0</td>\n",
       "      <td>0</td>\n",
       "      <td>0</td>\n",
       "    </tr>\n",
       "    <tr>\n",
       "      <th>183</th>\n",
       "      <td>30215</td>\n",
       "      <td>7808</td>\n",
       "      <td>Tartinas Pina 8p 104g TR 30215</td>\n",
       "      <td>183</td>\n",
       "      <td>0</td>\n",
       "      <td>0</td>\n",
       "      <td>0</td>\n",
       "      <td>0</td>\n",
       "    </tr>\n",
       "    <tr>\n",
       "      <th>195</th>\n",
       "      <td>30409</td>\n",
       "      <td>2403</td>\n",
       "      <td>Empanaditas Fresa 20p 506g DH 30409</td>\n",
       "      <td>195</td>\n",
       "      <td>0</td>\n",
       "      <td>0</td>\n",
       "      <td>0</td>\n",
       "      <td>0</td>\n",
       "    </tr>\n",
       "    <tr>\n",
       "      <th>196</th>\n",
       "      <td>30415</td>\n",
       "      <td>19106</td>\n",
       "      <td>Polvoroncitos Caseros 8p 130g TR 30415</td>\n",
       "      <td>196</td>\n",
       "      <td>0</td>\n",
       "      <td>0</td>\n",
       "      <td>0</td>\n",
       "      <td>0</td>\n",
       "    </tr>\n",
       "    <tr>\n",
       "      <th>...</th>\n",
       "      <td>...</td>\n",
       "      <td>...</td>\n",
       "      <td>...</td>\n",
       "      <td>...</td>\n",
       "      <td>...</td>\n",
       "      <td>...</td>\n",
       "      <td>...</td>\n",
       "      <td>...</td>\n",
       "    </tr>\n",
       "    <tr>\n",
       "      <th>717</th>\n",
       "      <td>43074</td>\n",
       "      <td>488</td>\n",
       "      <td>Triki Trakes 6p 50g MTB MLA 43074</td>\n",
       "      <td>717</td>\n",
       "      <td>152</td>\n",
       "      <td>1</td>\n",
       "      <td>0</td>\n",
       "      <td>0</td>\n",
       "    </tr>\n",
       "    <tr>\n",
       "      <th>721</th>\n",
       "      <td>43084</td>\n",
       "      <td>101997</td>\n",
       "      <td>Submarinos Chocolate 3p 105g SP MTA MLA 43084</td>\n",
       "      <td>721</td>\n",
       "      <td>153</td>\n",
       "      <td>64</td>\n",
       "      <td>15</td>\n",
       "      <td>0</td>\n",
       "    </tr>\n",
       "    <tr>\n",
       "      <th>722</th>\n",
       "      <td>43089</td>\n",
       "      <td>141</td>\n",
       "      <td>Integral 100pct Twin Pack 1360g MTA ORO 43089</td>\n",
       "      <td>722</td>\n",
       "      <td>154</td>\n",
       "      <td>65</td>\n",
       "      <td>23</td>\n",
       "      <td>0</td>\n",
       "    </tr>\n",
       "    <tr>\n",
       "      <th>732</th>\n",
       "      <td>43147</td>\n",
       "      <td>120202</td>\n",
       "      <td>Dalmata 1p 55g MTB MLA 43147</td>\n",
       "      <td>732</td>\n",
       "      <td>155</td>\n",
       "      <td>18</td>\n",
       "      <td>5</td>\n",
       "      <td>0</td>\n",
       "    </tr>\n",
       "    <tr>\n",
       "      <th>770</th>\n",
       "      <td>43215</td>\n",
       "      <td>51616</td>\n",
       "      <td>Pastisetas 75g MTB SUA 43215</td>\n",
       "      <td>770</td>\n",
       "      <td>156</td>\n",
       "      <td>0</td>\n",
       "      <td>0</td>\n",
       "      <td>0</td>\n",
       "    </tr>\n",
       "    <tr>\n",
       "      <th>781</th>\n",
       "      <td>43255</td>\n",
       "      <td>805</td>\n",
       "      <td>Pastisetas 20p 150g MTA SUA 43255</td>\n",
       "      <td>781</td>\n",
       "      <td>157</td>\n",
       "      <td>34</td>\n",
       "      <td>5</td>\n",
       "      <td>0</td>\n",
       "    </tr>\n",
       "    <tr>\n",
       "      <th>783</th>\n",
       "      <td>43257</td>\n",
       "      <td>3436</td>\n",
       "      <td>Animalitos 2Kg MTA LAR 43257</td>\n",
       "      <td>783</td>\n",
       "      <td>158</td>\n",
       "      <td>66</td>\n",
       "      <td>24</td>\n",
       "      <td>5</td>\n",
       "    </tr>\n",
       "    <tr>\n",
       "      <th>784</th>\n",
       "      <td>43263</td>\n",
       "      <td>103</td>\n",
       "      <td>Choco Roles 2p 80g MTB MLA 43263</td>\n",
       "      <td>784</td>\n",
       "      <td>159</td>\n",
       "      <td>67</td>\n",
       "      <td>5</td>\n",
       "      <td>0</td>\n",
       "    </tr>\n",
       "    <tr>\n",
       "      <th>787</th>\n",
       "      <td>43285</td>\n",
       "      <td>351732</td>\n",
       "      <td>Gansito 1p 50g MTB MLA 43285</td>\n",
       "      <td>787</td>\n",
       "      <td>160</td>\n",
       "      <td>68</td>\n",
       "      <td>0</td>\n",
       "      <td>0</td>\n",
       "    </tr>\n",
       "    <tr>\n",
       "      <th>811</th>\n",
       "      <td>44285</td>\n",
       "      <td>265</td>\n",
       "      <td>Bimbollos Parrilleros 780g 8p BIM 44285</td>\n",
       "      <td>811</td>\n",
       "      <td>161</td>\n",
       "      <td>69</td>\n",
       "      <td>0</td>\n",
       "      <td>0</td>\n",
       "    </tr>\n",
       "    <tr>\n",
       "      <th>816</th>\n",
       "      <td>44576</td>\n",
       "      <td>147</td>\n",
       "      <td>Mantecadas Vain 6p 188g Det Prom BIM 44576</td>\n",
       "      <td>816</td>\n",
       "      <td>162</td>\n",
       "      <td>0</td>\n",
       "      <td>0</td>\n",
       "      <td>0</td>\n",
       "    </tr>\n",
       "    <tr>\n",
       "      <th>821</th>\n",
       "      <td>45143</td>\n",
       "      <td>54373</td>\n",
       "      <td>Polvoroncitos Panera 40p 16 25g TR 45143</td>\n",
       "      <td>821</td>\n",
       "      <td>163</td>\n",
       "      <td>0</td>\n",
       "      <td>0</td>\n",
       "      <td>0</td>\n",
       "    </tr>\n",
       "    <tr>\n",
       "      <th>823</th>\n",
       "      <td>45183</td>\n",
       "      <td>236</td>\n",
       "      <td>Super Hotdog Fast Food 12p 650g WON 45183</td>\n",
       "      <td>823</td>\n",
       "      <td>164</td>\n",
       "      <td>70</td>\n",
       "      <td>0</td>\n",
       "      <td>0</td>\n",
       "    </tr>\n",
       "    <tr>\n",
       "      <th>828</th>\n",
       "      <td>45305</td>\n",
       "      <td>136</td>\n",
       "      <td>Barritas Fresa 12p 33 5g CU MLA 45305</td>\n",
       "      <td>828</td>\n",
       "      <td>165</td>\n",
       "      <td>1</td>\n",
       "      <td>0</td>\n",
       "      <td>0</td>\n",
       "    </tr>\n",
       "    <tr>\n",
       "      <th>829</th>\n",
       "      <td>45306</td>\n",
       "      <td>113</td>\n",
       "      <td>Barritas Pina 12p 33 5g CU MLA 45306</td>\n",
       "      <td>829</td>\n",
       "      <td>166</td>\n",
       "      <td>1</td>\n",
       "      <td>0</td>\n",
       "      <td>0</td>\n",
       "    </tr>\n",
       "    <tr>\n",
       "      <th>882</th>\n",
       "      <td>46716</td>\n",
       "      <td>10907</td>\n",
       "      <td>Bombonete 55g Cj MTB MLA 46716</td>\n",
       "      <td>882</td>\n",
       "      <td>167</td>\n",
       "      <td>71</td>\n",
       "      <td>25</td>\n",
       "      <td>0</td>\n",
       "    </tr>\n",
       "    <tr>\n",
       "      <th>891</th>\n",
       "      <td>47611</td>\n",
       "      <td>5691</td>\n",
       "      <td>Bimbollos FS 8p 450g BIM 47611</td>\n",
       "      <td>891</td>\n",
       "      <td>168</td>\n",
       "      <td>5</td>\n",
       "      <td>0</td>\n",
       "      <td>0</td>\n",
       "    </tr>\n",
       "    <tr>\n",
       "      <th>893</th>\n",
       "      <td>47840</td>\n",
       "      <td>42541</td>\n",
       "      <td>Tortilla Hna RB 10p 260g DH 47840</td>\n",
       "      <td>893</td>\n",
       "      <td>169</td>\n",
       "      <td>0</td>\n",
       "      <td>0</td>\n",
       "      <td>0</td>\n",
       "    </tr>\n",
       "    <tr>\n",
       "      <th>899</th>\n",
       "      <td>48019</td>\n",
       "      <td>4167</td>\n",
       "      <td>Orejitas Panera 500g GBI 48019</td>\n",
       "      <td>899</td>\n",
       "      <td>170</td>\n",
       "      <td>1</td>\n",
       "      <td>0</td>\n",
       "      <td>0</td>\n",
       "    </tr>\n",
       "    <tr>\n",
       "      <th>900</th>\n",
       "      <td>48029</td>\n",
       "      <td>404</td>\n",
       "      <td>Besos de Nuez 71g GBI 48029</td>\n",
       "      <td>900</td>\n",
       "      <td>171</td>\n",
       "      <td>1</td>\n",
       "      <td>0</td>\n",
       "      <td>0</td>\n",
       "    </tr>\n",
       "    <tr>\n",
       "      <th>903</th>\n",
       "      <td>48117</td>\n",
       "      <td>462</td>\n",
       "      <td>Tuinky Chocolate 3p 114g MTB WON 48117</td>\n",
       "      <td>903</td>\n",
       "      <td>172</td>\n",
       "      <td>72</td>\n",
       "      <td>0</td>\n",
       "      <td>0</td>\n",
       "    </tr>\n",
       "    <tr>\n",
       "      <th>904</th>\n",
       "      <td>48118</td>\n",
       "      <td>281</td>\n",
       "      <td>Tuinky Vainilla 3p 114g MTB WON 48118</td>\n",
       "      <td>904</td>\n",
       "      <td>173</td>\n",
       "      <td>73</td>\n",
       "      <td>1</td>\n",
       "      <td>0</td>\n",
       "    </tr>\n",
       "    <tr>\n",
       "      <th>905</th>\n",
       "      <td>48119</td>\n",
       "      <td>2037</td>\n",
       "      <td>Tuinky Fresas Crema 3p 114g MTB WON 48119</td>\n",
       "      <td>905</td>\n",
       "      <td>174</td>\n",
       "      <td>74</td>\n",
       "      <td>26</td>\n",
       "      <td>0</td>\n",
       "    </tr>\n",
       "    <tr>\n",
       "      <th>915</th>\n",
       "      <td>48417</td>\n",
       "      <td>116933</td>\n",
       "      <td>Bran Frut Fresa 48g BIM 48417</td>\n",
       "      <td>915</td>\n",
       "      <td>175</td>\n",
       "      <td>75</td>\n",
       "      <td>2</td>\n",
       "      <td>1</td>\n",
       "    </tr>\n",
       "    <tr>\n",
       "      <th>916</th>\n",
       "      <td>48419</td>\n",
       "      <td>10259</td>\n",
       "      <td>Bran Frut Manzana Canela 48g BIM 48419</td>\n",
       "      <td>916</td>\n",
       "      <td>176</td>\n",
       "      <td>14</td>\n",
       "      <td>2</td>\n",
       "      <td>1</td>\n",
       "    </tr>\n",
       "    <tr>\n",
       "      <th>917</th>\n",
       "      <td>48421</td>\n",
       "      <td>31194</td>\n",
       "      <td>Bran Frut Pina 48g BIM 48421</td>\n",
       "      <td>917</td>\n",
       "      <td>177</td>\n",
       "      <td>11</td>\n",
       "      <td>2</td>\n",
       "      <td>1</td>\n",
       "    </tr>\n",
       "    <tr>\n",
       "      <th>930</th>\n",
       "      <td>48893</td>\n",
       "      <td>16592</td>\n",
       "      <td>Duo Gansito mas Gansito SP 100g MTA MLA 48893</td>\n",
       "      <td>930</td>\n",
       "      <td>178</td>\n",
       "      <td>6</td>\n",
       "      <td>0</td>\n",
       "      <td>0</td>\n",
       "    </tr>\n",
       "    <tr>\n",
       "      <th>933</th>\n",
       "      <td>48961</td>\n",
       "      <td>1364</td>\n",
       "      <td>Tostada Ondulada Tubo 30p CU MR 48961</td>\n",
       "      <td>933</td>\n",
       "      <td>179</td>\n",
       "      <td>76</td>\n",
       "      <td>0</td>\n",
       "      <td>0</td>\n",
       "    </tr>\n",
       "    <tr>\n",
       "      <th>939</th>\n",
       "      <td>49492</td>\n",
       "      <td>381</td>\n",
       "      <td>Tortillinas 20p 550g Prom TR 49492</td>\n",
       "      <td>939</td>\n",
       "      <td>180</td>\n",
       "      <td>77</td>\n",
       "      <td>0</td>\n",
       "      <td>0</td>\n",
       "    </tr>\n",
       "    <tr>\n",
       "      <th>951</th>\n",
       "      <td>49973</td>\n",
       "      <td>12466</td>\n",
       "      <td>Pan Blanco Bimbo Rendidor 567g BIM 49973</td>\n",
       "      <td>951</td>\n",
       "      <td>181</td>\n",
       "      <td>5</td>\n",
       "      <td>0</td>\n",
       "      <td>0</td>\n",
       "    </tr>\n",
       "  </tbody>\n",
       "</table>\n",
       "<p>956 rows × 8 columns</p>\n",
       "</div>"
      ],
      "text/plain": [
       "     Producto_ID       0                                 NombreProducto  \\\n",
       "0             72   38390            Div Tira Mini Doradita 4p 45g TR 72   \n",
       "310        32132    2103            Salmas Maiz Horn 108g CJM SAN 32132   \n",
       "325        32322   13517         Tortilla Hna RB 10p 260g Prom DH 32322   \n",
       "341        32802   33659                Tortillas de Maiz 800g MR 32802   \n",
       "343        32819   50518                 Chocodonitas 6p 102g BIM 32819   \n",
       "347        32846    4551        Decanelas 5 Obleas 83g SP MTB LAR 32846   \n",
       "354        32873   23241                Canapinas 140g SP MTA LAR 32873   \n",
       "293        31720   11435           Mantecadas Chocolate 2p 95g TR 31720   \n",
       "394        33734    6591         Galleta Avena Chispas 8p 100g TR 33734   \n",
       "472        35141   31196       Super Pan Blanco Ajonjoli 567g WON 35141   \n",
       "474        35144   39400      Wonder 100pct con Ajonjoli 567g WON 35144   \n",
       "476        35147   11742            Wonder 100pct grande 567g WON 35147   \n",
       "954        49990     245                Tostado Integral 180g WON 49990   \n",
       "486        35452   74786           Chocotorro Fresa 1p 50g SP MLA 35452   \n",
       "508        35753     150     Galletas Panditas 3p 33g Tira CU MLA 35753   \n",
       "468        35119   38893      Deliciosas Vainilla 300g SP MTA LAR 35119   \n",
       "283        31625   17112                Chocochispas 280g MTA LAR 31625   \n",
       "279        31588    3651        Suavicremas Vainilla 237g MTA MLA 31588   \n",
       "277        31584    4220           Suavicremas Fresa 237g MTA MLA 31584   \n",
       "94          3609   63474                Mantecadas Chocolate 3p TR 3609   \n",
       "110         4259  109087                   Conchas 3p 180g Prom TR 4259   \n",
       "112         4280  117562                         Doraditas 110g TR 4280   \n",
       "113         4477     394         Tostada Ondulada Tubo 20p 240g MR 4477   \n",
       "155         6667    1916                 Bimkingo Clasico 135g LON 6667   \n",
       "65          1272   24722             Conchas Chocolate 2p 120g BIM 1272   \n",
       "170         9217  104391          Cuernitos Famili Pack 3p 150g TR 9217   \n",
       "182        30214   15771                Tartinas Fresa 8p 104g TR 30214   \n",
       "183        30215    7808                 Tartinas Pina 8p 104g TR 30215   \n",
       "195        30409    2403            Empanaditas Fresa 20p 506g DH 30409   \n",
       "196        30415   19106         Polvoroncitos Caseros 8p 130g TR 30415   \n",
       "..           ...     ...                                            ...   \n",
       "717        43074     488              Triki Trakes 6p 50g MTB MLA 43074   \n",
       "721        43084  101997  Submarinos Chocolate 3p 105g SP MTA MLA 43084   \n",
       "722        43089     141  Integral 100pct Twin Pack 1360g MTA ORO 43089   \n",
       "732        43147  120202                   Dalmata 1p 55g MTB MLA 43147   \n",
       "770        43215   51616                   Pastisetas 75g MTB SUA 43215   \n",
       "781        43255     805              Pastisetas 20p 150g MTA SUA 43255   \n",
       "783        43257    3436                   Animalitos 2Kg MTA LAR 43257   \n",
       "784        43263     103               Choco Roles 2p 80g MTB MLA 43263   \n",
       "787        43285  351732                   Gansito 1p 50g MTB MLA 43285   \n",
       "811        44285     265        Bimbollos Parrilleros 780g 8p BIM 44285   \n",
       "816        44576     147     Mantecadas Vain 6p 188g Det Prom BIM 44576   \n",
       "821        45143   54373       Polvoroncitos Panera 40p 16 25g TR 45143   \n",
       "823        45183     236      Super Hotdog Fast Food 12p 650g WON 45183   \n",
       "828        45305     136          Barritas Fresa 12p 33 5g CU MLA 45305   \n",
       "829        45306     113           Barritas Pina 12p 33 5g CU MLA 45306   \n",
       "882        46716   10907                 Bombonete 55g Cj MTB MLA 46716   \n",
       "891        47611    5691                 Bimbollos FS 8p 450g BIM 47611   \n",
       "893        47840   42541              Tortilla Hna RB 10p 260g DH 47840   \n",
       "899        48019    4167                 Orejitas Panera 500g GBI 48019   \n",
       "900        48029     404                    Besos de Nuez 71g GBI 48029   \n",
       "903        48117     462         Tuinky Chocolate 3p 114g MTB WON 48117   \n",
       "904        48118     281          Tuinky Vainilla 3p 114g MTB WON 48118   \n",
       "905        48119    2037      Tuinky Fresas Crema 3p 114g MTB WON 48119   \n",
       "915        48417  116933                  Bran Frut Fresa 48g BIM 48417   \n",
       "916        48419   10259         Bran Frut Manzana Canela 48g BIM 48419   \n",
       "917        48421   31194                   Bran Frut Pina 48g BIM 48421   \n",
       "930        48893   16592  Duo Gansito mas Gansito SP 100g MTA MLA 48893   \n",
       "933        48961    1364          Tostada Ondulada Tubo 30p CU MR 48961   \n",
       "939        49492     381             Tortillinas 20p 550g Prom TR 49492   \n",
       "951        49973   12466       Pan Blanco Bimbo Rendidor 567g BIM 49973   \n",
       "\n",
       "     product_id  cluster2  cluster3  cluster4  cluster5  \n",
       "0             0         0         0         0         0  \n",
       "310         310         0         0         0         0  \n",
       "325         325         0         0         0         0  \n",
       "341         341         0         0         0         0  \n",
       "343         343         0         0         0         0  \n",
       "347         347         0         0         0         0  \n",
       "354         354         0         0         0         0  \n",
       "293         293         0         0         0         0  \n",
       "394         394         0         0         0         0  \n",
       "472         472         0         0         0         0  \n",
       "474         474         0         0         0         0  \n",
       "476         476         0         0         0         0  \n",
       "954         954         0         0         0         0  \n",
       "486         486         0         0         0         0  \n",
       "508         508         0         0         0         0  \n",
       "468         468         0         0         0         0  \n",
       "283         283         0         0         0         0  \n",
       "279         279         0         0         0         0  \n",
       "277         277         0         0         0         0  \n",
       "94           94         0         0         0         0  \n",
       "110         110         0         0         0         0  \n",
       "112         112         0         0         0         0  \n",
       "113         113         0         0         0         0  \n",
       "155         155         0         0         0         0  \n",
       "65           65         0         0         0         0  \n",
       "170         170         0         0         0         0  \n",
       "182         182         0         0         0         0  \n",
       "183         183         0         0         0         0  \n",
       "195         195         0         0         0         0  \n",
       "196         196         0         0         0         0  \n",
       "..          ...       ...       ...       ...       ...  \n",
       "717         717       152         1         0         0  \n",
       "721         721       153        64        15         0  \n",
       "722         722       154        65        23         0  \n",
       "732         732       155        18         5         0  \n",
       "770         770       156         0         0         0  \n",
       "781         781       157        34         5         0  \n",
       "783         783       158        66        24         5  \n",
       "784         784       159        67         5         0  \n",
       "787         787       160        68         0         0  \n",
       "811         811       161        69         0         0  \n",
       "816         816       162         0         0         0  \n",
       "821         821       163         0         0         0  \n",
       "823         823       164        70         0         0  \n",
       "828         828       165         1         0         0  \n",
       "829         829       166         1         0         0  \n",
       "882         882       167        71        25         0  \n",
       "891         891       168         5         0         0  \n",
       "893         893       169         0         0         0  \n",
       "899         899       170         1         0         0  \n",
       "900         900       171         1         0         0  \n",
       "903         903       172        72         0         0  \n",
       "904         904       173        73         1         0  \n",
       "905         905       174        74        26         0  \n",
       "915         915       175        75         2         1  \n",
       "916         916       176        14         2         1  \n",
       "917         917       177        11         2         1  \n",
       "930         930       178         6         0         0  \n",
       "933         933       179        76         0         0  \n",
       "939         939       180        77         0         0  \n",
       "951         951       181         5         0         0  \n",
       "\n",
       "[956 rows x 8 columns]"
      ]
     },
     "execution_count": 162,
     "metadata": {},
     "output_type": "execute_result"
    }
   ],
   "source": [
    "producto_tabla['cluster2'] = clusters_n[:,0]\n",
    "producto_tabla['cluster3'] = clusters_n[:,1]\n",
    "producto_tabla['cluster4'] = clusters_n[:,2]\n",
    "producto_tabla['cluster5'] = clusters_n[:,3]\n",
    "producto_tabla.sort_values('cluster2')"
   ]
  },
  {
   "cell_type": "code",
   "execution_count": 141,
   "metadata": {
    "collapsed": false
   },
   "outputs": [],
   "source": [
    "def get_var_of_purchases(x):\n",
    "    #get average rms distance from medoid, quanitfy spread of purchaces\n",
    "    y = np.mean(np.sum((vec[x==1]-np.mean(vec[x==1],0))**2,1)**.5)\n",
    "    return y"
   ]
  },
  {
   "cell_type": "code",
   "execution_count": 145,
   "metadata": {
    "collapsed": false
   },
   "outputs": [
    {
     "data": {
      "text/plain": [
       "[0.69628334, 0.8579779]"
      ]
     },
     "execution_count": 145,
     "metadata": {},
     "output_type": "execute_result"
    }
   ],
   "source": [
    "list(map(get_var_of_purchases,client_purchases_wk3.iloc[:2].values))"
   ]
  },
  {
   "cell_type": "code",
   "execution_count": 72,
   "metadata": {
    "collapsed": false
   },
   "outputs": [
    {
     "data": {
      "text/plain": [
       "250"
      ]
     },
     "execution_count": 72,
     "metadata": {},
     "output_type": "execute_result"
    }
   ],
   "source": [
    "ids = pd.unique(data3['Cliente_ID'])\n",
    "ids_subset = ids[:50000]\n",
    "num_pdts =  len(products_dict)\n",
    "#analyzing first 100k clients due to memory issues\n",
    "data3_first100k = data3[data3['Cliente_ID'].isin(ids_subset)]\n",
    "data4_first100k = data4[data4['Cliente_ID'].isin(ids_subset)]\n",
    "data4_first100k = data4_first100k[data4_first100k['Cliente_ID'].isin(data3_first100k['Cliente_ID'].values)]\n",
    "data3_first100k = data3_first100k[data3_first100k['Cliente_ID'].isin(data4_first100k['Cliente_ID'].values)]\n",
    "gc.collect()\n",
    "client_purchases_wk3=data3_first100k.pivot(\n",
    "            index='Cliente_ID',\n",
    "            columns='Producto_ID',\n",
    "            values=target).fillna(0).astype(np.uint8)\n",
    "client_purchases_wk4=data4_first100k.pivot(\n",
    "            index='Cliente_ID',\n",
    "            columns='Producto_ID',\n",
    "            values=target).fillna(0).astype(np.uint8)\n",
    "for i in range(num_pdts):\n",
    "            try:\n",
    "                temp= client_purchases_wk3.iloc[:5][i]\n",
    "            except KeyError :\n",
    "                client_purchases_wk3[i] =0\n",
    "                client_purchases_wk3[i] = client_purchases_wk3[i].astype(np.uint8)\n",
    "client_purchases_wk3 = client_purchases_wk3[np.array(range(num_pdts))]\n",
    "for i in range(num_pdts):\n",
    "            try:\n",
    "                temp= client_purchases_wk4.iloc[:5][i]\n",
    "            except KeyError :\n",
    "                client_purchases_wk4[i] =0\n",
    "                client_purchases_wk4[i] = client_purchases_wk4[i].astype(np.uint8)\n",
    "\n",
    "client_purchases_wk4 = client_purchases_wk4[np.array(range(num_pdts))]\n",
    "gc.collect()"
   ]
  },
  {
   "cell_type": "code",
   "execution_count": 183,
   "metadata": {
    "collapsed": false
   },
   "outputs": [
    {
     "name": "stdout",
     "output_type": "stream",
     "text": [
      "0.7550432616397189\n"
     ]
    }
   ],
   "source": [
    "def get_var_of_purchases(x):\n",
    "    #get average rms distance from medoid, quanitfy spread of purchaces, if they occupy same or diff criteria\n",
    "    y = np.mean(np.sum((vec[x==1]-np.mean(vec[x==1],0))**2,1)**.5)\n",
    "    return y\n",
    "client_purchases_wk3['spread_purchases'] = list(map(get_var_of_purchases,client_purchases_wk3.values[:,:len(pdts)]))\n",
    "client_purchases_wk4['spread_purchases'] = list(map(get_var_of_purchases,client_purchases_wk4.values[:,:len(pdts)]))\n"
   ]
  },
  {
   "cell_type": "code",
   "execution_count": 187,
   "metadata": {
    "collapsed": false
   },
   "outputs": [
    {
     "name": "stdout",
     "output_type": "stream",
     "text": [
      "0.7550432616397189\n",
      "0.79082936\n"
     ]
    }
   ],
   "source": [
    "\n",
    "vec_cluster0 = vec[producto_tabla[producto_tabla['cluster5']==0].index]\n",
    "print (np.mean(client_purchases_wk3['spread_purchases'] ))\n",
    "print (np.mean(np.sum((vec_cluster0 - np.mean(vec_cluster0,0))**2,1)**.5))"
   ]
  },
  {
   "cell_type": "code",
   "execution_count": 74,
   "metadata": {
    "collapsed": false
   },
   "outputs": [],
   "source": [
    "acc=client_purchases_wk4*(client_purchases_wk4.values == client_purchases_wk3.values)\n"
   ]
  },
  {
   "cell_type": "code",
   "execution_count": 63,
   "metadata": {
    "collapsed": false
   },
   "outputs": [
    {
     "name": "stdout",
     "output_type": "stream",
     "text": [
      "Int64Index([ 33,  34,  53,  55,  58,  61,  62,  63,  64,  66,  67, 216, 420,\n",
      "            504, 632, 665, 710, 715, 787, 883],\n",
      "           dtype='int64', name='Producto_ID') Int64Index([31, 33, 37, 53, 55, 58, 62, 63, 64, 66, 68, 504, 883], dtype='int64', name='Producto_ID')\n"
     ]
    }
   ],
   "source": [
    "#client id==0 purchaed these items in week4\n",
    "a = client_purchases_wk4.iloc[0][client_purchases_wk4.iloc[0]==1].index\n",
    "b = client_purchases_wk3.iloc[0][client_purchases_wk3.iloc[0]==1].index\n",
    "\n",
    "print (a,b)"
   ]
  },
  {
   "cell_type": "code",
   "execution_count": 66,
   "metadata": {
    "collapsed": false
   },
   "outputs": [
    {
     "name": "stdout",
     "output_type": "stream",
     "text": [
      "{64, 33, 66, 883, 53, 55, 504, 58, 62, 63}\n",
      "0.5\n"
     ]
    }
   ],
   "source": [
    "print (set(list(a)).intersection(list(b)))\n",
    "print (10./len(a))"
   ]
  },
  {
   "cell_type": "code",
   "execution_count": 60,
   "metadata": {
    "collapsed": false
   },
   "outputs": [
    {
     "data": {
      "text/plain": [
       "35"
      ]
     },
     "execution_count": 60,
     "metadata": {},
     "output_type": "execute_result"
    }
   ],
   "source": [
    "len(set(list(a)).intersection(list(b)))"
   ]
  },
  {
   "cell_type": "code",
   "execution_count": 104,
   "metadata": {
    "collapsed": false
   },
   "outputs": [
    {
     "name": "stdout",
     "output_type": "stream",
     "text": [
      "0.7220867084314196\n"
     ]
    }
   ],
   "source": [
    "print (np.mean(np.sum(acc.iloc[:],1)/np.sum(client_purchases_wk4.iloc[:],1)))"
   ]
  },
  {
   "cell_type": "code",
   "execution_count": 78,
   "metadata": {
    "collapsed": false
   },
   "outputs": [
    {
     "name": "stdout",
     "output_type": "stream",
     "text": [
      "(49356, 5)\n"
     ]
    },
    {
     "data": {
      "text/plain": [
       "73"
      ]
     },
     "execution_count": 78,
     "metadata": {},
     "output_type": "execute_result"
    }
   ],
   "source": [
    "client_embeddings = np.matmul(client_purchases_wk3,np.nan_to_num(vec,0))\n",
    "print (client_embeddings.shape)\n",
    "gc.collect()"
   ]
  },
  {
   "cell_type": "code",
   "execution_count": 81,
   "metadata": {
    "collapsed": false
   },
   "outputs": [],
   "source": [
    "client_next_purchase= np.matmul(client_embeddings[:,],np.nan_to_num(vec,0).T)"
   ]
  },
  {
   "cell_type": "code",
   "execution_count": 86,
   "metadata": {
    "collapsed": false
   },
   "outputs": [
    {
     "ename": "AttributeError",
     "evalue": "module 'numpy' has no attribute 'percetile'",
     "output_type": "error",
     "traceback": [
      "\u001b[0;31m---------------------------------------------------------------------------\u001b[0m",
      "\u001b[0;31mAttributeError\u001b[0m                            Traceback (most recent call last)",
      "\u001b[0;32m<ipython-input-86-444bd9f6e2a3>\u001b[0m in \u001b[0;36m<module>\u001b[0;34m()\u001b[0m\n\u001b[1;32m      1\u001b[0m \u001b[0mclient_next_purchase\u001b[0m \u001b[0;34m=\u001b[0m \u001b[0mclient_purchases_wk4\u001b[0m\u001b[0;34m*\u001b[0m\u001b[0;36m0\u001b[0m \u001b[0;34m+\u001b[0m\u001b[0mclient_next_purchase\u001b[0m\u001b[0;34m\u001b[0m\u001b[0m\n\u001b[0;32m----> 2\u001b[0;31m \u001b[0mnp\u001b[0m\u001b[0;34m.\u001b[0m\u001b[0mpercetile\u001b[0m\u001b[0;34m(\u001b[0m\u001b[0mclient_next_purchase\u001b[0m\u001b[0;34m,\u001b[0m\u001b[0;36m0.95\u001b[0m\u001b[0;34m)\u001b[0m\u001b[0;34m\u001b[0m\u001b[0m\n\u001b[0m",
      "\u001b[0;31mAttributeError\u001b[0m: module 'numpy' has no attribute 'percetile'"
     ]
    }
   ],
   "source": [
    "client_next_purchase = client_purchases_wk4*0 +client_next_purchase \n"
   ]
  },
  {
   "cell_type": "code",
   "execution_count": 91,
   "metadata": {
    "collapsed": false
   },
   "outputs": [
    {
     "data": {
      "text/plain": [
       "array([ 7.0161726 , 15.66638536,  5.85316553, ..., 11.8579565 ,\n",
       "       17.46321678, 37.97332993])"
      ]
     },
     "execution_count": 91,
     "metadata": {},
     "output_type": "execute_result"
    }
   ],
   "source": [
    "np.percentile(client_next_purchase,98,1)"
   ]
  },
  {
   "cell_type": "code",
   "execution_count": 99,
   "metadata": {
    "collapsed": false
   },
   "outputs": [
    {
     "data": {
      "text/plain": [
       "20"
      ]
     },
     "execution_count": 99,
     "metadata": {},
     "output_type": "execute_result"
    }
   ],
   "source": []
  },
  {
   "cell_type": "code",
   "execution_count": 94,
   "metadata": {
    "collapsed": false
   },
   "outputs": [],
   "source": [
    "acc_recommend=client_purchases_wk4*(client_next_purchase.values >= np.expand_dims(np.percentile(client_next_purchase,98,1),1))\n"
   ]
  },
  {
   "cell_type": "code",
   "execution_count": 105,
   "metadata": {
    "collapsed": false
   },
   "outputs": [
    {
     "data": {
      "text/plain": [
       "0.20858659534808333"
      ]
     },
     "execution_count": 105,
     "metadata": {},
     "output_type": "execute_result"
    }
   ],
   "source": [
    "np.mean(np.sum(acc_recommend,1)/20)"
   ]
  }
 ],
 "metadata": {
  "kernelspec": {
   "display_name": "Python 3",
   "language": "python",
   "name": "python3"
  },
  "language_info": {
   "codemirror_mode": {
    "name": "ipython",
    "version": 3
   },
   "file_extension": ".py",
   "mimetype": "text/x-python",
   "name": "python",
   "nbconvert_exporter": "python",
   "pygments_lexer": "ipython3",
   "version": "3.5.2"
  }
 },
 "nbformat": 4,
 "nbformat_minor": 2
}
